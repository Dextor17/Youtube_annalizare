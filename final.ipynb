{
 "cells": [
  {
   "cell_type": "code",
   "execution_count": 1,
   "metadata": {},
   "outputs": [],
   "source": [
    "import numpy as np\n",
    "import pandas as pd\n",
    "import sklearn\n",
    "import matplotlib as plt\n",
    "\n",
    "import matplotlib.pyplot as plt\n",
    "import seaborn as sns\n"
   ]
  },
  {
   "cell_type": "code",
   "execution_count": 2,
   "metadata": {},
   "outputs": [],
   "source": [
    "dataset = pd.read_csv('data_v4.csv')"
   ]
  },
  {
   "cell_type": "code",
   "execution_count": 3,
   "metadata": {},
   "outputs": [
    {
     "name": "stderr",
     "output_type": "stream",
     "text": [
      "[nltk_data] Error loading stopwords: <urlopen error [Errno -2] Name or\n",
      "[nltk_data]     service not known>\n"
     ]
    }
   ],
   "source": [
    "import re\n",
    "\n",
    "# Natural Language Tool Kit\n",
    "import nltk\n",
    "\n",
    "nltk.download('stopwords')\n",
    "\n",
    "# to remove stopword\n",
    "from nltk.corpus import stopwords\n",
    "\n",
    "# for Stemming propose\n",
    "from nltk.stem.porter import PorterStemmer\n",
    "\n",
    "# Initialize empty array\n",
    "# to append clean text\n",
    "corpus = []\n",
    "\n"
   ]
  },
  {
   "cell_type": "code",
   "execution_count": 4,
   "metadata": {},
   "outputs": [
    {
     "name": "stderr",
     "output_type": "stream",
     "text": [
      "[nltk_data] Error loading stopwords: <urlopen error [Errno -2] Name or\n",
      "[nltk_data]     service not known>\n"
     ]
    }
   ],
   "source": [
    "import re\n",
    "\n",
    "# Natural Language Tool Kit\n",
    "import nltk\n",
    "\n",
    "nltk.download('stopwords')\n",
    "\n",
    "# to remove stopword\n",
    "from nltk.corpus import stopwords\n",
    "\n",
    "# for Stemming propose\n",
    "from nltk.stem.porter import PorterStemmer\n",
    "\n",
    "# Initialize empty array\n",
    "# to append clean text\n",
    "corpus = []\n"
   ]
  },
  {
   "cell_type": "code",
   "execution_count": 5,
   "metadata": {},
   "outputs": [
    {
     "name": "stderr",
     "output_type": "stream",
     "text": [
      "[nltk_data] Downloading package stopwords to /home/prachi/nltk_data...\n",
      "[nltk_data]   Package stopwords is already up-to-date!\n"
     ]
    }
   ],
   "source": [
    "import re\n",
    "\n",
    "# Natural Language Tool Kit\n",
    "import nltk\n",
    "\n",
    "nltk.download('stopwords')\n",
    "\n",
    "# to remove stopword\n",
    "from nltk.corpus import stopwords\n",
    "\n",
    "# for Stemming propose\n",
    "from nltk.stem.porter import PorterStemmer\n",
    "\n",
    "# Initialize empty array\n",
    "# to append clean text\n",
    "corpus = []\n"
   ]
  },
  {
   "cell_type": "code",
   "execution_count": 6,
   "metadata": {},
   "outputs": [
    {
     "data": {
      "text/plain": [
       "0     1\n",
       "1     1\n",
       "2     1\n",
       "3     1\n",
       "4     1\n",
       "5     1\n",
       "6     1\n",
       "7     1\n",
       "8     1\n",
       "9     1\n",
       "10    1\n",
       "11    1\n",
       "12    1\n",
       "13    1\n",
       "14    1\n",
       "15    1\n",
       "16    1\n",
       "17    1\n",
       "18    1\n",
       "19    1\n",
       "20    1\n",
       "21    1\n",
       "22    1\n",
       "23    1\n",
       "24    1\n",
       "25    0\n",
       "26    1\n",
       "27    1\n",
       "28    1\n",
       "29    1\n",
       "30    1\n",
       "31    1\n",
       "32    1\n",
       "33    1\n",
       "34    1\n",
       "35    1\n",
       "36    1\n",
       "37    1\n",
       "38    1\n",
       "39    1\n",
       "40    1\n",
       "41    1\n",
       "Name: polarity, dtype: int64"
      ]
     },
     "execution_count": 6,
     "metadata": {},
     "output_type": "execute_result"
    }
   ],
   "source": [
    "dataset['polarity']"
   ]
  },
  {
   "cell_type": "code",
   "execution_count": 7,
   "metadata": {},
   "outputs": [],
   "source": [
    "comments = \"\""
   ]
  },
  {
   "cell_type": "code",
   "execution_count": 8,
   "metadata": {},
   "outputs": [
    {
     "data": {
      "text/plain": [
       "Index(['Sn', 'comments', 'polarity'], dtype='object')"
      ]
     },
     "execution_count": 8,
     "metadata": {},
     "output_type": "execute_result"
    }
   ],
   "source": [
    "dataset.columns"
   ]
  },
  {
   "cell_type": "code",
   "execution_count": 9,
   "metadata": {},
   "outputs": [],
   "source": [
    "comment = re.sub('[^a-zA-Z]', ' ', dataset['comments'][3])"
   ]
  },
  {
   "cell_type": "code",
   "execution_count": 10,
   "metadata": {},
   "outputs": [],
   "source": [
    "for i in range(0, 42):\n",
    "    # column : \"Review\", row ith\n",
    "    comments = re.sub('[^a-zA-Z]', ' ', dataset['comments'][i])\n",
    "\n",
    "    # convert all cases to lower cases\n",
    "    comments = comments.lower()\n",
    "\n",
    "    # split to array(default delimiter is \" \")\n",
    "    comments = comments.split()\n",
    "\n",
    "    # creating PorterStemmer object to\n",
    "    # take main stem of each word\n",
    "    ps = PorterStemmer()\n",
    "\n",
    "    # loop for stemming each word\n",
    "    # in string array at ith row\n",
    "    review = [ps.stem(word) for word in comments\n",
    "              if not word in set(stopwords.words('english'))]\n",
    "\n",
    "    # rejoin all string array elements\n",
    "    # to create back into a string\n",
    "    comments = ' '.join(comments)\n",
    "\n",
    "    # append each string to create\n",
    "    # array of clean text\n",
    "    corpus.append(comments)"
   ]
  },
  {
   "cell_type": "code",
   "execution_count": 11,
   "metadata": {},
   "outputs": [
    {
     "data": {
      "text/plain": [
       "['sir plz provide videoes on c net',\n",
       " 'nice video sir thanks for this video',\n",
       " 'generalization ka topic ka v video dalo plz',\n",
       " 'sir i need interview qns about dbms sir sir nice video superb explanation',\n",
       " 'amazing teaching sir',\n",
       " 'sir sid should be instead of at',\n",
       " 'i m understand normlization after watchinh videos that video this vedio thanku sir',\n",
       " 'at row level there are repeated rows how can we add primary key',\n",
       " 'bhai you are so helpful',\n",
       " '',\n",
       " 'sir hmme poly mai sql pr lesson hai sir pls us lesson pr video bnaie pls pls sir reply',\n",
       " 'paji thanks',\n",
       " 'very nice explanation sir keep it up',\n",
       " 'sir th and th normal form bhi karwado',\n",
       " 'gurujee shandhar jabardast zindabad',\n",
       " 'you are doing great job bro',\n",
       " 'your videos are great pls make videos on algarithms and data structures',\n",
       " 'best video ever',\n",
       " 'super class sir',\n",
       " 'sir u have great teaching skills even a single person u have nothing knowledge about dbms will get understood easily by just watching ur videos hope u will cross million sub at the earliest',\n",
       " 'execlent technique of explanation',\n",
       " 'sir please dijkstra algorithms make da video',\n",
       " 'sir apki krpa se m pas ho jauga',\n",
       " 'thank you so much sir m rdy for the final exam',\n",
       " 'sir thank you so much for nice explanation',\n",
       " 'hi sir u have to update sid not right for where condition correct me if i am wrong at time',\n",
       " 'sir can you make a videos lecture of coa for gate preparation',\n",
       " 'sir aap bahut accha padhate ho ur are my favourite teacher because of u i get good marks in my os subject without coaching and attending college classes thanku so much sir ur great bt iss video me aap thode sad lg rahe the tabiyat kharab hoga sayad apka once again thanks',\n",
       " 'ty sr',\n",
       " 'sir is video mai udas udas kyu lag rahe ho',\n",
       " 'excellent lectures but only constraint is hindi pls try to explain the concept in hindi and english also so everyone will be benifitted',\n",
       " 'sir aap algorithm par v video bnaiye plz sir',\n",
       " 'thanku so much sir',\n",
       " 'once again you ve proved that you are good explainer',\n",
       " 'sir sid of amrit pal is not',\n",
       " 'sir u teaching is amazing but y teaching only hindi medium',\n",
       " 'it officer',\n",
       " 'subscribed',\n",
       " 'i don t have words to thanking u for all ur video its all are greate and very easy to understand thnq so much sir',\n",
       " 'finally a decent teacher who teach in both hindi n elglish very well sir',\n",
       " 'sir plzz normalization k all type k tutorials upload kr dien mera exam hai main ny tyari krni hai thanks in advance',\n",
       " 'very nice explanation will u plz upload videos on computer orgnization']"
      ]
     },
     "execution_count": 11,
     "metadata": {},
     "output_type": "execute_result"
    }
   ],
   "source": [
    "corpus"
   ]
  },
  {
   "cell_type": "code",
   "execution_count": 12,
   "metadata": {},
   "outputs": [
    {
     "data": {
      "text/plain": [
       "array([1, 1, 1, 1, 1, 1, 1, 1, 1, 1, 1, 1, 1, 1, 1, 1, 1, 1, 1, 1, 1, 1,\n",
       "       1, 1, 1, 0, 1, 1, 1, 1, 1, 1, 1, 1, 1, 1, 1, 1, 1, 1, 1, 1])"
      ]
     },
     "execution_count": 12,
     "metadata": {},
     "output_type": "execute_result"
    }
   ],
   "source": [
    "y = dataset.iloc[:, 2].values\n",
    "y = y.astype(int)\n",
    "y"
   ]
  },
  {
   "cell_type": "code",
   "execution_count": 13,
   "metadata": {},
   "outputs": [
    {
     "data": {
      "text/plain": [
       "array([1, 1, 1, 1, 1, 1, 1, 1, 1, 1, 1, 1, 1, 1, 1, 1, 1, 1, 1, 1, 1, 1,\n",
       "       1, 1, 1, 0, 1, 1, 1, 1, 1, 1, 1, 1, 1, 1, 1, 1, 1, 1, 1, 1])"
      ]
     },
     "execution_count": 13,
     "metadata": {},
     "output_type": "execute_result"
    }
   ],
   "source": [
    "# Creating the Bag of Words model\n",
    "from sklearn.feature_extraction.text import CountVectorizer\n",
    "\n",
    "# experiment with to get better results\n",
    "cv = CountVectorizer(max_features = 1500)\n",
    "# X contains corpus (dependent variable)\n",
    "X = cv.fit_transform(corpus).toarray()\n",
    "X\n",
    "# y contains answers if review\n",
    "# is positive or negative\n",
    "y = dataset.iloc[:, 2].values\n",
    "y = y.astype(int)\n",
    "y"
   ]
  },
  {
   "cell_type": "code",
   "execution_count": 14,
   "metadata": {},
   "outputs": [],
   "source": [
    "# Splitting the dataset into\n",
    "# the Training set and Test set\n",
    "from sklearn.model_selection import train_test_split\n",
    "\n",
    "# experiment with \"test_size\"\n",
    "# to get better results\n",
    "X_train, X_test, y_train, y_test = train_test_split(X, y, test_size = 0.25)\n",
    "\n",
    "# Fitting Random Forest Classification\n",
    "# to the Training set\n",
    "from sklearn.ensemble import RandomForestClassifier\n",
    "\n",
    "# n_estimators can be said as number of\n",
    "# trees, experiment with n_estimators\n",
    "# to get better results\n",
    "model = RandomForestClassifier(n_estimators=501,\n",
    "                               criterion='entropy')\n",
    "\n",
    "model.fit(X_train, y_train)\n",
    "\n",
    "# Predicting the Test set results\n",
    "y_pred = model.predict(X_test)\n",
    "\n",
    "\n",
    "\n",
    "# Making the Confusion Matrix\n",
    "from sklearn.metrics import confusion_matrix\n",
    "\n",
    "cm = confusion_matrix(y_test, y_pred)\n"
   ]
  },
  {
   "cell_type": "code",
   "execution_count": 15,
   "metadata": {},
   "outputs": [
    {
     "name": "stdout",
     "output_type": "stream",
     "text": [
      "[1 1 1 1 1 1 1 1 1 1 1] [[ 0  1]\n",
      " [ 0 10]]\n"
     ]
    }
   ],
   "source": [
    "cm\n",
    "print(y_pred,cm)\n"
   ]
  },
  {
   "cell_type": "code",
   "execution_count": 16,
   "metadata": {},
   "outputs": [
    {
     "data": {
      "text/plain": [
       "<matplotlib.axes._subplots.AxesSubplot at 0x7ffae3c28d68>"
      ]
     },
     "execution_count": 16,
     "metadata": {},
     "output_type": "execute_result"
    },
    {
     "data": {
      "image/png": "[encoded data removed]",
      "text/plain": [
       "<Figure size 720x504 with 2 Axes>"
      ]
     },
     "metadata": {
      "needs_background": "light"
     },
     "output_type": "display_data"
    }
   ],
   "source": [
    "plt.figure(figsize = (10,7))\n",
    "sns.heatmap(cm, annot=True)"
   ]
  },
  {
   "cell_type": "code",
   "execution_count": null,
   "metadata": {},
   "outputs": [],
   "source": []
  }
 ],
 "metadata": {
  "kernelspec": {
   "display_name": "Python 3",
   "language": "python",
   "name": "python3"
  },
  "language_info": {
   "codemirror_mode": {
    "name": "ipython",
    "version": 3
   },
   "file_extension": ".py",
   "mimetype": "text/x-python",
   "name": "python",
   "nbconvert_exporter": "python",
   "pygments_lexer": "ipython3",
   "version": "3.6.6+"
  }
 },
 "nbformat": 4,
 "nbformat_minor": 1
}
